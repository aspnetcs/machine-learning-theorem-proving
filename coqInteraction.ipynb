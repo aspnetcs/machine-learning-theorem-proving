{
 "cells": [
  {
   "cell_type": "code",
   "execution_count": 1,
   "metadata": {},
   "outputs": [],
   "source": [
    "from coqLink import *\n",
    "from collections import OrderedDict"
   ]
  },
  {
   "cell_type": "code",
   "execution_count": 2,
   "metadata": {},
   "outputs": [],
   "source": [
    "try:\n",
    "    p.terminate()\n",
    "except:\n",
    "    pass\n",
    "\n",
    "p = Popen([\"/home/ubuntu/.opam/4.06.1/bin/sertop\"], stdin=PIPE, stdout=PIPE, shell=True)\n",
    "nbsr = NonBlockingStreamReader(p.stdout)\n",
    "\n",
    "load = output_from_command(p, nbsr, None) # omits Coq initialization data from results\n",
    "resultDict = OrderedDict()"
   ]
  },
  {
   "cell_type": "code",
   "execution_count": null,
   "metadata": {},
   "outputs": [],
   "source": [
    "coqString = \"From Coq Require Import Arith.\""
   ]
  },
  {
   "cell_type": "code",
   "execution_count": null,
   "metadata": {},
   "outputs": [],
   "source": [
    "coqString = \"Lemma example : forall x y, x <= 10 -> 10 <= y -> x <= y. Proof.\""
   ]
  },
  {
   "cell_type": "code",
   "execution_count": null,
   "metadata": {},
   "outputs": [],
   "source": [
    "coqString = \"apply le_trans with (m := 10).\""
   ]
  },
  {
   "cell_type": "code",
   "execution_count": null,
   "metadata": {},
   "outputs": [],
   "source": [
    "coqString = \"apply le_trans.\""
   ]
  },
  {
   "cell_type": "code",
   "execution_count": null,
   "metadata": {},
   "outputs": [],
   "source": [
    "coqString = \"Theorem test_prop : forall A B C:Prop, (A -> B -> C) -> (A -> B) -> A -> C.  Proof.\""
   ]
  },
  {
   "cell_type": "code",
   "execution_count": null,
   "metadata": {},
   "outputs": [],
   "source": [
    "coqString = \"assumption. assumption. Qed.\""
   ]
  },
  {
   "cell_type": "code",
   "execution_count": null,
   "metadata": {},
   "outputs": [],
   "source": [
    "coqString = \"intros.\""
   ]
  },
  {
   "cell_type": "code",
   "execution_count": null,
   "metadata": {},
   "outputs": [],
   "source": [
    "coqString = \"Lemma addn0 n : n + 0 = n. Proof. induction n.\""
   ]
  },
  {
   "cell_type": "code",
   "execution_count": null,
   "metadata": {},
   "outputs": [],
   "source": [
    "coqString = \"Variables A B C: Prop.\""
   ]
  },
  {
   "cell_type": "code",
   "execution_count": null,
   "metadata": {},
   "outputs": [],
   "source": [
    "coqString = \"Goal (A -> B -> C) -> (A -> B) -> A -> C.\""
   ]
  },
  {
   "cell_type": "code",
   "execution_count": 3,
   "metadata": {},
   "outputs": [],
   "source": [
    "coqString = 'Variables V0 V1 V2: Prop.'"
   ]
  },
  {
   "cell_type": "code",
   "execution_count": null,
   "metadata": {},
   "outputs": [],
   "source": [
    "coqString = \"Hypothesis A2: V2.\""
   ]
  },
  {
   "cell_type": "code",
   "execution_count": 5,
   "metadata": {},
   "outputs": [],
   "source": [
    "coqString = \"Hypothesis I0: V2 -> V1.\""
   ]
  },
  {
   "cell_type": "code",
   "execution_count": 7,
   "metadata": {},
   "outputs": [],
   "source": [
    "coqString = \"Goal V1.\""
   ]
  },
  {
   "cell_type": "code",
   "execution_count": 9,
   "metadata": {},
   "outputs": [],
   "source": [
    "coqString = \"apply I0.\""
   ]
  },
  {
   "cell_type": "code",
   "execution_count": null,
   "metadata": {},
   "outputs": [],
   "source": [
    "coqString = \"apply A2.\""
   ]
  },
  {
   "cell_type": "code",
   "execution_count": 10,
   "metadata": {},
   "outputs": [
    {
     "name": "stdout",
     "output_type": "stream",
     "text": [
      "Goal dictionary: \n",
      "Variables V0 V1 V2: Prop.\n",
      "\t('2', [(['none'], None)])\n",
      "Hypothesis I0: V2 -> V1.\n",
      "\t('3', [(['none'], None)])\n",
      "Goal V1.\n",
      "\t('4', [(['none'], 'V1')])\n",
      "apply I0.\n",
      "\t('5', [(['none'], 'V2')])\n"
     ]
    }
   ],
   "source": [
    "resultDict = doAdd(coqString, resultDict, p, nbsr, debugList = [])\n",
    "print(\"Goal dictionary: \")\n",
    "pretty(resultDict)"
   ]
  },
  {
   "cell_type": "code",
   "execution_count": 15,
   "metadata": {},
   "outputs": [
    {
     "data": {
      "text/plain": [
       "OrderedDict([('Variables V0 V1 V2: Prop.', ('2', [(['none'], None)])),\n",
       "             ('Hypothesis I0: V2 -> V1.', ('3', [(['none'], None)])),\n",
       "             ('Goal V1.', ('4', [(['none'], 'V1')])),\n",
       "             ('apply I0.', ('5', [(['none'], 'V2')])),\n",
       "             ('(Cancel (5))',\n",
       "              [b'(Answer 12 Ack)\\n',\n",
       "               b'(Feedback((doc_id 0)(span_id 4)(route 0)(contents Processed)))\\n',\n",
       "               b'(Answer 12(Canceled(5)))\\n',\n",
       "               b'(Answer 12 Completed)\\n',\n",
       "               'No more data\\n\\n']),\n",
       "             ('(Query ((pp ((pp_format PpStr)))) Goals)',\n",
       "              [b'(Answer 13 Ack)\\n',\n",
       "               b'(Answer 13(ObjList((CoqString\"none\\\\n============================\\\\nV1\"))))\\n',\n",
       "               b'(Answer 13 Completed)\\n',\n",
       "               'No more data\\n\\n'])])"
      ]
     },
     "execution_count": 15,
     "metadata": {},
     "output_type": "execute_result"
    }
   ],
   "source": [
    "resultDict"
   ]
  },
  {
   "cell_type": "code",
   "execution_count": 14,
   "metadata": {},
   "outputs": [
    {
     "name": "stdout",
     "output_type": "stream",
     "text": [
      "Goal dictionary: \n",
      "Variables V0 V1 V2: Prop.\n",
      "\t('2', [(['none'], None)])\n",
      "Hypothesis I0: V2 -> V1.\n",
      "\t('3', [(['none'], None)])\n",
      "Goal V1.\n",
      "\t('4', [(['none'], 'V1')])\n",
      "apply I0.\n",
      "\t('5', [(['none'], 'V2')])\n",
      "(Cancel (5))\n",
      "\tb'(Answer 12 Ack)\\n'\n",
      "\tb'(Feedback((doc_id 0)(span_id 4)(route 0)(contents Processed)))\\n'\n",
      "\tb'(Answer 12(Canceled(5)))\\n'\n",
      "\tb'(Answer 12 Completed)\\n'\n",
      "\tNo more data\n",
      "\n",
      "\n",
      "(Query ((pp ((pp_format PpStr)))) Goals)\n",
      "\tb'(Answer 13 Ack)\\n'\n",
      "\tb'(Answer 13(ObjList((CoqString\"none\\\\n============================\\\\nV1\"))))\\n'\n",
      "\tb'(Answer 13 Completed)\\n'\n",
      "\tNo more data\n",
      "\n",
      "\n"
     ]
    }
   ],
   "source": [
    "resultDict = doCommand(command, p, nbsr, resultDict)\n",
    "print(\"Goal dictionary: \")\n",
    "pretty(resultDict)"
   ]
  },
  {
   "cell_type": "code",
   "execution_count": null,
   "metadata": {},
   "outputs": [],
   "source": [
    "command = '(Add () \"Theorem my_first_proof : (forall A : Prop, A -> A).\")'"
   ]
  },
  {
   "cell_type": "code",
   "execution_count": null,
   "metadata": {},
   "outputs": [],
   "source": [
    "command = '(Add () \"Lemma addn0 n : n + 0 = n. Proof. induction n.\")'"
   ]
  },
  {
   "cell_type": "code",
   "execution_count": null,
   "metadata": {},
   "outputs": [],
   "source": [
    "command = '(Add () \"Theorem test_prop : forall A B C:Prop, (A -> B -> C) -> (A -> B) -> A -> C.\")'"
   ]
  },
  {
   "cell_type": "code",
   "execution_count": null,
   "metadata": {},
   "outputs": [],
   "source": [
    "command = '(Query ((sid 3)) Goals)'"
   ]
  },
  {
   "cell_type": "code",
   "execution_count": null,
   "metadata": {},
   "outputs": [],
   "source": [
    "command = '(Query ( (pp ((pp_format PpStr))) (sid 2) ) Ast)'"
   ]
  },
  {
   "cell_type": "code",
   "execution_count": 11,
   "metadata": {},
   "outputs": [],
   "source": [
    "command = '(Cancel (5))'"
   ]
  },
  {
   "cell_type": "code",
   "execution_count": null,
   "metadata": {},
   "outputs": [],
   "source": [
    "command = '(Exec 7)'"
   ]
  },
  {
   "cell_type": "code",
   "execution_count": null,
   "metadata": {},
   "outputs": [],
   "source": [
    "command = '(Query () Goals)'"
   ]
  },
  {
   "cell_type": "code",
   "execution_count": 13,
   "metadata": {},
   "outputs": [],
   "source": [
    "command = '(Query ((pp ((pp_format PpStr)))) Goals)'"
   ]
  },
  {
   "cell_type": "code",
   "execution_count": null,
   "metadata": {},
   "outputs": [],
   "source": [
    "command = '(Add () \"intros.\")'"
   ]
  },
  {
   "cell_type": "code",
   "execution_count": null,
   "metadata": {},
   "outputs": [],
   "source": [
    "type(b'hello')"
   ]
  },
  {
   "cell_type": "code",
   "execution_count": null,
   "metadata": {},
   "outputs": [],
   "source": [
    "#resultDict = doCommand(command, resultDict)\n",
    "#pretty(resultDict)"
   ]
  }
 ],
 "metadata": {
  "anaconda-cloud": {},
  "kernelspec": {
   "display_name": "Python 3",
   "language": "python",
   "name": "python3"
  },
  "language_info": {
   "codemirror_mode": {
    "name": "ipython",
    "version": 3
   },
   "file_extension": ".py",
   "mimetype": "text/x-python",
   "name": "python",
   "nbconvert_exporter": "python",
   "pygments_lexer": "ipython3",
   "version": "3.6.4"
  }
 },
 "nbformat": 4,
 "nbformat_minor": 1
}
